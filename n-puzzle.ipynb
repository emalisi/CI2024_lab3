{
 "cells": [
  {
   "cell_type": "markdown",
   "metadata": {
    "vscode": {
     "languageId": "plaintext"
    }
   },
   "source": [
    "Copyright **`(c)`** 2024 Giovanni Squillero `<giovanni.squillero@polito.it>`  \n",
    "[`https://github.com/squillero/computational-intelligence`](https://github.com/squillero/computational-intelligence)  \n",
    "Free under certain conditions — see the [`license`](https://github.com/squillero/computational-intelligence/blob/master/LICENSE.md) for details.  "
   ]
  },
  {
   "cell_type": "code",
   "execution_count": 1,
   "metadata": {},
   "outputs": [],
   "source": [
    "from collections import namedtuple\n",
    "from random import choice\n",
    "from tqdm.auto import tqdm\n",
    "import numpy as np\n",
    "from heapq import heappop, heappush\n",
    "from collections import defaultdict"
   ]
  },
  {
   "cell_type": "code",
   "execution_count": null,
   "metadata": {},
   "outputs": [],
   "source": [
    "PUZZLE_DIM = 4\n",
    "action = namedtuple('Action', ['pos1', 'pos2'])\n",
    "\n",
    "# Stato finale desiderato\n",
    "GOAL_STATE = np.array([i for i in range(1, PUZZLE_DIM**2)] + [0]).reshape((PUZZLE_DIM, PUZZLE_DIM))"
   ]
  },
  {
   "cell_type": "code",
   "execution_count": 3,
   "metadata": {},
   "outputs": [],
   "source": [
    "def available_actions(state: np.ndarray) -> list['Action']:\n",
    "    x, y = [int(_[0]) for _ in np.where(state == 0)]\n",
    "    actions = list()\n",
    "    if x > 0:\n",
    "        actions.append(action((x, y), (x - 1, y)))\n",
    "    if x < PUZZLE_DIM - 1:\n",
    "        actions.append(action((x, y), (x + 1, y)))\n",
    "    if y > 0:\n",
    "        actions.append(action((x, y), (x, y - 1)))\n",
    "    if y < PUZZLE_DIM - 1:\n",
    "        actions.append(action((x, y), (x, y + 1)))\n",
    "    return actions\n",
    "\n",
    "\n",
    "\n",
    "def do_action(state: np.ndarray, action: 'Action') -> np.ndarray:\n",
    "    new_state = state.copy()\n",
    "    new_state[action.pos1], new_state[action.pos2] = new_state[action.pos2], new_state[action.pos1]\n",
    "    return new_state"
   ]
  },
  {
   "cell_type": "markdown",
   "metadata": {},
   "source": [
    "# A* with Manhattan Distance"
   ]
  },
  {
   "cell_type": "code",
   "execution_count": 4,
   "metadata": {},
   "outputs": [],
   "source": [
    "def manhattan_distance(state):\n",
    "    \"\"\"Calcola la Manhattan Distance tra lo stato corrente e lo stato obiettivo.\"\"\"\n",
    "    total_distance = 0\n",
    "    for i in range(PUZZLE_DIM):\n",
    "        for j in range(PUZZLE_DIM):\n",
    "            value = state[i, j]\n",
    "            if value != 0:  # Non calcolare per il blocco vuoto\n",
    "                goal_x, goal_y = divmod(value - 1, PUZZLE_DIM)\n",
    "                total_distance += abs(goal_x - i) + abs(goal_y - j)\n",
    "    return total_distance\n",
    "\n",
    "def a_star(initial_state):\n",
    "    \"\"\"Risolvi il puzzle usando l'algoritmo A* con Manhattan Distance.\"\"\"\n",
    "    # Coda prioritaria per la frontiera\n",
    "    frontier = []\n",
    "    heappush(frontier, (0, initial_state.tobytes()))  # (priorità, stato)\n",
    "\n",
    "    # Distanze conosciute (g-cost)\n",
    "    g_cost = {initial_state.tobytes(): 0}\n",
    "\n",
    "    # Percorso per ricostruire la soluzione\n",
    "    came_from = {}\n",
    "\n",
    "    while frontier:\n",
    "        _, current_bytes = heappop(frontier)\n",
    "        current_state = np.frombuffer(current_bytes, dtype=int).reshape((PUZZLE_DIM, PUZZLE_DIM))\n",
    "\n",
    "        # Controlla se abbiamo raggiunto l'obiettivo\n",
    "        if np.array_equal(current_state, GOAL_STATE):\n",
    "            return reconstruct_path(came_from, current_bytes)\n",
    "\n",
    "        # Esplora gli stati vicini\n",
    "        for action in available_actions(current_state):\n",
    "            neighbor_state = do_action(current_state, action)\n",
    "            neighbor_bytes = neighbor_state.tobytes()\n",
    "\n",
    "            tentative_g_cost = g_cost[current_bytes] + 1\n",
    "\n",
    "            # Se il nuovo percorso verso il vicino è migliore\n",
    "            if neighbor_bytes not in g_cost or tentative_g_cost < g_cost[neighbor_bytes]:\n",
    "                g_cost[neighbor_bytes] = tentative_g_cost\n",
    "                priority = tentative_g_cost + manhattan_distance(neighbor_state)\n",
    "                heappush(frontier, (priority, neighbor_bytes))\n",
    "                came_from[neighbor_bytes] = (current_bytes, action)\n",
    "\n",
    "    raise ValueError(\"Non è stato trovato alcun percorso valido.\")\n",
    "\n",
    "def reconstruct_path(came_from, current_bytes):\n",
    "    \"\"\"Ricostruisce il percorso dalla soluzione allo stato iniziale.\"\"\"\n",
    "    path = []\n",
    "    while current_bytes in came_from:\n",
    "        prev_bytes, action = came_from[current_bytes]\n",
    "        path.append(action)\n",
    "        current_bytes = prev_bytes\n",
    "    return path[::-1]  # Inverti per ottenere il percorso dall'inizio alla fine"
   ]
  },
  {
   "cell_type": "code",
   "execution_count": 5,
   "metadata": {},
   "outputs": [
    {
     "data": {
      "application/vnd.jupyter.widget-view+json": {
       "model_id": "bdaee876366043938bd179c210d55656",
       "version_major": 2,
       "version_minor": 0
      },
      "text/plain": [
       "Randomizing:   0%|          | 0/100000 [00:00<?, ?it/s]"
      ]
     },
     "metadata": {},
     "output_type": "display_data"
    },
    {
     "data": {
      "text/plain": [
       "array([[3, 6, 0],\n",
       "       [5, 2, 7],\n",
       "       [8, 1, 4]])"
      ]
     },
     "execution_count": 5,
     "metadata": {},
     "output_type": "execute_result"
    }
   ],
   "source": [
    "RANDOMIZE_STEPS = 100_000\n",
    "state = np.array([i for i in range(1, PUZZLE_DIM**2)] + [0]).reshape((PUZZLE_DIM, PUZZLE_DIM))\n",
    "for r in tqdm(range(RANDOMIZE_STEPS), desc='Randomizing'):\n",
    "    state = do_action(state, choice(available_actions(state)))\n",
    "state"
   ]
  },
  {
   "cell_type": "code",
   "execution_count": 6,
   "metadata": {},
   "outputs": [
    {
     "name": "stdout",
     "output_type": "stream",
     "text": [
      "\n",
      "Risoluzione passo-passo:\n",
      "Passo 1:\n",
      "[[3 0 6]\n",
      " [5 2 7]\n",
      " [8 1 4]]\n",
      "Passo 2:\n",
      "[[3 2 6]\n",
      " [5 0 7]\n",
      " [8 1 4]]\n",
      "Passo 3:\n",
      "[[3 2 6]\n",
      " [5 1 7]\n",
      " [8 0 4]]\n",
      "Passo 4:\n",
      "[[3 2 6]\n",
      " [5 1 7]\n",
      " [0 8 4]]\n",
      "Passo 5:\n",
      "[[3 2 6]\n",
      " [0 1 7]\n",
      " [5 8 4]]\n",
      "Passo 6:\n",
      "[[3 2 6]\n",
      " [1 0 7]\n",
      " [5 8 4]]\n",
      "Passo 7:\n",
      "[[3 2 6]\n",
      " [1 8 7]\n",
      " [5 0 4]]\n",
      "Passo 8:\n",
      "[[3 2 6]\n",
      " [1 8 7]\n",
      " [5 4 0]]\n",
      "Passo 9:\n",
      "[[3 2 6]\n",
      " [1 8 0]\n",
      " [5 4 7]]\n",
      "Passo 10:\n",
      "[[3 2 6]\n",
      " [1 0 8]\n",
      " [5 4 7]]\n",
      "Passo 11:\n",
      "[[3 0 6]\n",
      " [1 2 8]\n",
      " [5 4 7]]\n",
      "Passo 12:\n",
      "[[0 3 6]\n",
      " [1 2 8]\n",
      " [5 4 7]]\n",
      "Passo 13:\n",
      "[[1 3 6]\n",
      " [0 2 8]\n",
      " [5 4 7]]\n",
      "Passo 14:\n",
      "[[1 3 6]\n",
      " [5 2 8]\n",
      " [0 4 7]]\n",
      "Passo 15:\n",
      "[[1 3 6]\n",
      " [5 2 8]\n",
      " [4 0 7]]\n",
      "Passo 16:\n",
      "[[1 3 6]\n",
      " [5 2 8]\n",
      " [4 7 0]]\n",
      "Passo 17:\n",
      "[[1 3 6]\n",
      " [5 2 0]\n",
      " [4 7 8]]\n",
      "Passo 18:\n",
      "[[1 3 0]\n",
      " [5 2 6]\n",
      " [4 7 8]]\n",
      "Passo 19:\n",
      "[[1 0 3]\n",
      " [5 2 6]\n",
      " [4 7 8]]\n",
      "Passo 20:\n",
      "[[1 2 3]\n",
      " [5 0 6]\n",
      " [4 7 8]]\n",
      "Passo 21:\n",
      "[[1 2 3]\n",
      " [0 5 6]\n",
      " [4 7 8]]\n",
      "Passo 22:\n",
      "[[1 2 3]\n",
      " [4 5 6]\n",
      " [0 7 8]]\n",
      "Passo 23:\n",
      "[[1 2 3]\n",
      " [4 5 6]\n",
      " [7 0 8]]\n",
      "Passo 24:\n",
      "[[1 2 3]\n",
      " [4 5 6]\n",
      " [7 8 0]]\n",
      "\n",
      "Puzzle risolto!\n"
     ]
    }
   ],
   "source": [
    "# Risoluzione del puzzle con A*\n",
    "solution = a_star(state)\n",
    "\n",
    "# Applica la soluzione passo dopo passo\n",
    "current_state = state.copy()\n",
    "print(\"\\nRisoluzione passo-passo:\")\n",
    "for step, action in enumerate(solution, start=1):\n",
    "    current_state = do_action(current_state, action)\n",
    "    print(f\"Passo {step}:\")\n",
    "    print(current_state)\n",
    "\n",
    "print(\"\\nPuzzle risolto!\")"
   ]
  }
 ],
 "metadata": {
  "kernelspec": {
   "display_name": "CI_venv",
   "language": "python",
   "name": "python3"
  },
  "language_info": {
   "codemirror_mode": {
    "name": "ipython",
    "version": 3
   },
   "file_extension": ".py",
   "mimetype": "text/x-python",
   "name": "python",
   "nbconvert_exporter": "python",
   "pygments_lexer": "ipython3",
   "version": "3.12.6"
  }
 },
 "nbformat": 4,
 "nbformat_minor": 2
}
